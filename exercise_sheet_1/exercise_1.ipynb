{
 "cells": [
  {
   "cell_type": "markdown",
   "metadata": {},
   "source": [
    "# Exercise 1\n",
    "\n",
    "Decypher the following string that has been encrypted using the Vigenère code:"
   ]
  },
  {
   "cell_type": "code",
   "execution_count": 1,
   "metadata": {
    "collapsed": false
   },
   "outputs": [],
   "source": [
    "c = \"MZMTELFMPLWUFEWXTZPCJDQPBVUKSIEEQDIMIIDRLQNTPWFBZNYNTTQLMAFAGQADDYXOPLIDIWYXFIN\"\\\n",
    "    \"ISZBSCZUOPLIDMNGTTMCCEDTTCVMBEYGWACCPUMOMRWVZUPQLRCSRBSCTXITLXQFEGSDCDCSRICCGAO\"\\\n",
    "    \"YGDMJWCAAZOYWMSPWOMATQOUAXCXTWOFEPVZQYOPOCTQVOCROQPQOMATQOUELQXTMQGVEBEMTGJWGWT\"\\\n",
    "    \"IYYGOWFLXANEFIMBEYGWJFRMFQDAPQICRLMBEFIDMHCVQWEFIDAHFSIMCCEIICCSRQEGRQQRFXQMYDM\"\\\n",
    "    \"RBJDSGZNFEDTPQFMJMYKQELQKAIOCHUVEMFDMLIMZOEFIHQRCRQZPAMBPPPATMYHSTVSYPXJCMGWBSU\"\\\n",
    "    \"EUBPQWGJXGXFMOYRQENGTTMCRSFPPHSGZYYPANEFIEWNGIFGZDXTMLPXEESCRNIMZESMDFSIMORLMBE\"\\\n",
    "    \"FAMQECWOQAFIDELQIEAPLXUIWJCVCDREZWEFIDZPAVQIEGSZWQRLQDTEIZMCCGUXSCVFPHYMFMDALMT\"\\\n",
    "    \"WCRSMOZENJLEIFWMPIMSSGWOQAFIDMYASPMORAUKPUMFPVCCEWQBMRNPPIZBWCRSBSZENJLEIECNAIQ\"\\\n",
    "    \"LPBMZLPAVKXEGRSIDYQBTPULUKSRYDVPBSGBEMFQBSCTAMXRLQDTQMAVZDWUVMWEXNCCHFMYLCEWYCR\"\\\n",
    "    \"OZJNXQLLAGAZOGRSBZRLQSPWAAZOCQUTJRLQNTPWFVLKIANECRZGDMREETDINIMZESMYCZQZPVTXITL\"\\\n",
    "    \"IPBSCQQBSMHTMFQIPAESHUMDMJNIMZESMDLSFMDPIHMLJXTIEFITIOSWQLEFIYMEFSPTLRIDXFZPUAS\"\\\n",
    "    \"CHNGVYWUAVGEZLDSKSMDRXTIEFITIOZIQVFQMZOEFIYMEFSPIDCEDTJYWQQRFXQMYDSGZEWWUF\""
   ]
  },
  {
   "cell_type": "markdown",
   "metadata": {},
   "source": [
    "## 1. Determine length of key\n",
    "\n",
    "For each trigram in `c`, calculate a list that contains all indices where that trigram occurs in `c`:"
   ]
  },
  {
   "cell_type": "code",
   "execution_count": 2,
   "metadata": {
    "collapsed": false
   },
   "outputs": [
    {
     "data": {
      "text/plain": [
       "[('BSC', [82, 132, 672, 792]),\n",
       " ('EFI', [248, 273, 283, 358, 433, 508, 838, 848, 893, 908]),\n",
       " ('FID', [274, 284, 484, 509, 579]),\n",
       " ('IMZ', [354, 457, 772, 817]),\n",
       " ('MBE', [106, 251, 271, 471]),\n",
       " ('RLQ', [39, 524, 679, 729, 744])]"
      ]
     },
     "execution_count": 2,
     "metadata": {},
     "output_type": "execute_result"
    }
   ],
   "source": [
    "from collections import defaultdict\n",
    "\n",
    "trigram_indices = defaultdict(list)\n",
    "for i in range(len(c)-3):\n",
    "    trigram = c[i:i+3]  # trigram = [c[i], c[i+1], c[i+2]]\n",
    "    trigram_indices[trigram].append(i)\n",
    "    \n",
    "# print all trigrams (and corresponding indices) that occur at least 4 times in `c`\n",
    "filtered_trigram_indices = {key:value for key, value in trigram_indices.items() if len(value) > 3}\n",
    "sorted(filtered_trigram_indices.items())"
   ]
  },
  {
   "cell_type": "markdown",
   "metadata": {},
   "source": [
    "For each trigram, calculate all index differences between two occurances of the same trigram:"
   ]
  },
  {
   "cell_type": "code",
   "execution_count": 3,
   "metadata": {
    "collapsed": false,
    "scrolled": true
   },
   "outputs": [],
   "source": [
    "from itertools import combinations\n",
    "\n",
    "idx_differences = []\n",
    "for key, indices in trigram_indices.items():\n",
    "    idx_differences.extend(second - first for first, second in combinations(indices, 2))"
   ]
  },
  {
   "cell_type": "markdown",
   "metadata": {},
   "source": [
    "For each possible key length `n`, calculate the number of index differences that are a multiple of `n`:"
   ]
  },
  {
   "cell_type": "code",
   "execution_count": 4,
   "metadata": {
    "collapsed": false
   },
   "outputs": [
    {
     "name": "stdout",
     "output_type": "stream",
     "text": [
      "Key length: 5\n"
     ]
    }
   ],
   "source": [
    "matches = []\n",
    "for n in range(2, 11):\n",
    "    num_matches = sum(d%n==0 for d in idx_differences)\n",
    "    matches.append((n, num_matches))\n",
    "    \n",
    "# key length is the length that has the most matches\n",
    "key_length, num_matches = max(matches, key=lambda x: x[1])\n",
    "print(f\"Key length: {key_length}\")"
   ]
  },
  {
   "cell_type": "markdown",
   "metadata": {},
   "source": [
    "# 2. Calculate the key\n",
    "\n",
    "Next, we need to calculate the key using a character frequency analysis."
   ]
  },
  {
   "cell_type": "markdown",
   "metadata": {},
   "source": [
    "Partition the input `c` into `key_length` parts:"
   ]
  },
  {
   "cell_type": "code",
   "execution_count": 5,
   "metadata": {
    "collapsed": false
   },
   "outputs": [],
   "source": [
    "partitions = [c[i::key_length] for i in range(key_length)]"
   ]
  },
  {
   "cell_type": "markdown",
   "metadata": {
    "collapsed": false
   },
   "source": [
    "We are assuming that the text is written in english which leads to the following distribution of characters (Source: [Wikipedia](https://en.wikipedia.org/wiki/Letter_frequency#Relative_frequencies_of_letters_in_the_English_language)):"
   ]
  },
  {
   "cell_type": "code",
   "execution_count": 6,
   "metadata": {
    "collapsed": false
   },
   "outputs": [],
   "source": [
    "char_frequencies = {'A': 8.167, 'B': 1.492, 'C': 2.782, 'D': 4.253, 'E': 12.702,\n",
    "                    'F': 2.228, 'G': 2.015, 'H': 6.094, 'I': 6.966, 'J': 0.153,\n",
    "                    'K': 0.772, 'L': 4.025, 'M': 2.406, 'N': 6.749, 'O': 7.507,\n",
    "                    'P': 1.929, 'Q': 0.095, 'R': 5.987, 'S': 6.327, 'T': 9.056,\n",
    "                    'U': 2.758, 'V': 0.978, 'W': 2.360, 'X': 0.150, 'Y': 1.974,\n",
    "                    'Z': 0.074}\n",
    "en_char_freq_list = list(char_frequencies.values())"
   ]
  },
  {
   "cell_type": "code",
   "execution_count": 7,
   "metadata": {
    "collapsed": false
   },
   "outputs": [],
   "source": [
    "from collections import Counter, defaultdict\n",
    "\n",
    "partition_frequencies = []\n",
    "for partition in partitions:\n",
    "    char_counts = defaultdict(int, Counter(partition))\n",
    "    partition_freq_list = [char_counts[i] / len(partition) for i in char_frequencies.keys()]\n",
    "    partition_frequencies.append(partition_freq_list)"
   ]
  },
  {
   "cell_type": "markdown",
   "metadata": {},
   "source": [
    "Find best matching shift:"
   ]
  },
  {
   "cell_type": "code",
   "execution_count": 8,
   "metadata": {
    "collapsed": false
   },
   "outputs": [],
   "source": [
    "offset_values = []\n",
    "\n",
    "for p_freq in partition_frequencies:\n",
    "    deviations = []\n",
    "    for offset in range(26):\n",
    "        deviation = 0\n",
    "        for char_idx in range(26):\n",
    "            deviation += (p_freq[(char_idx + offset)%26] - en_char_freq_list[char_idx])**2\n",
    "        deviations.append((offset, deviation))\n",
    "\n",
    "    offset, deviation = min(deviations, key=lambda x: x[1])\n",
    "    offset_values.append(offset)"
   ]
  },
  {
   "cell_type": "code",
   "execution_count": 9,
   "metadata": {
    "collapsed": false
   },
   "outputs": [
    {
     "name": "stdout",
     "output_type": "stream",
     "text": [
      "Key: EMILY\n"
     ]
    }
   ],
   "source": [
    "key = \"\".join(chr(ord('A')+s) for s in offset_values)\n",
    "print(\"Key:\", key)"
   ]
  },
  {
   "cell_type": "code",
   "execution_count": 10,
   "metadata": {
    "collapsed": false
   },
   "outputs": [
    {
     "data": {
      "text/plain": [
       "'INEIGHTEENSIXTYTHREEFRIEDRICHKASISKIWASTHEFIRSTTOPUBLISHASUCCESSFULGENERALATTACKONTHEVIGENERECIPHEREARLIERATTACKSRELIEDONKNOWLEDGEOFTHEPLAINTEXTIORUSEOFARECOGNIZABLEWORDASAKEYKASISKISMETHODHADNOSUCHDEPENDENCIESKASISKIWASTHEFIRSTTOPUBLISHANACCOUNTOFTHEATTACKBUTITISCLEARTHATTHEREWEREOTHERSWHOWEREAWAREOFITINEIGHTEENFIFTYFOURCHARLESBABBAGEWASGOADEDINTOBREAKINGTHEVIGENERECIPHERWHENJOHNHALLBROCKTHWAITESSUBMITTEDANEWCIPHERTOTHEJOURNALOFTHESOCIETYOFTHEARTSWHENBABBAGESHOWEDTHATTHWAITESCIPHERWASESSENTIALLYJUSTANOTHERRECREATIONOFTHEVIGENERECIPHERTHWAITESCHALLENGEDBABBAGETOBREAKHISCIPHERENCODEDTWICEWITHKEYSOFDIFFERENTLENGTHBABBAGESUCCEEDEDINDECRYPTINGASAMPLEWHICHTURNEDOUTTOBETHEPOEMTHEVISIONOFSINBYALFREDTENNYSONENCRYPTEDACCORDINGTOTHEKEYWORDEMILYTHEFIRSTNAMEOFTENNYSONSWIFEBABBAGENEVEREXPLAINEDTHEMETHODHEUSEDSTUDIESOFBABBAGESNOTESREVEALTHATHEHADUSEDTHEMETHODLATERPUBLISHEDBYKASISKIANDSUGGESTTHATHEHADBEENUSINGTHEMETHODASEARLYASEIGHTEENFOURTYSIX'"
      ]
     },
     "execution_count": 10,
     "metadata": {},
     "output_type": "execute_result"
    }
   ],
   "source": [
    "clear = \"\"\n",
    "\n",
    "for i in range(len(c)):\n",
    "    offset = offset_values[i%key_length]\n",
    "    clear += chr(((ord(c[i]) - ord('A') - offset) % 26) + ord('A'))\n",
    "    \n",
    "clear"
   ]
  },
  {
   "cell_type": "code",
   "execution_count": null,
   "metadata": {
    "collapsed": true
   },
   "outputs": [],
   "source": []
  }
 ],
 "metadata": {
  "kernelspec": {
   "display_name": "Python 3",
   "language": "python",
   "name": "python3"
  },
  "language_info": {
   "codemirror_mode": {
    "name": "ipython",
    "version": 3
   },
   "file_extension": ".py",
   "mimetype": "text/x-python",
   "name": "python",
   "nbconvert_exporter": "python",
   "pygments_lexer": "ipython3",
   "version": "3.6.0"
  }
 },
 "nbformat": 4,
 "nbformat_minor": 2
}
